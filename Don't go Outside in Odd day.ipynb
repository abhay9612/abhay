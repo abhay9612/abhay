{
 "cells": [
  {
   "cell_type": "code",
   "execution_count": 1,
   "metadata": {},
   "outputs": [
    {
     "name": "stdout",
     "output_type": "stream",
     "text": [
      "Number of even nunber :  4\n",
      "Number of odd number :  5\n"
     ]
    }
   ],
   "source": [
    "number = (1,2,3,4,5,6,7,8,9)\n",
    "\n",
    "count_odd = 0\n",
    "count_even = 0\n",
    "\n",
    "for x in number:\n",
    "    if not x % 2: \n",
    "        count_even+=1\n",
    "    else:\n",
    "        count_odd+=1 \n",
    "        \n",
    "print(\"Number of even nunber : \",count_even)\n",
    "print(\"Number of odd number : \",count_odd)\n"
   ]
  },
  {
   "cell_type": "code",
   "execution_count": null,
   "metadata": {},
   "outputs": [],
   "source": []
  }
 ],
 "metadata": {
  "kernelspec": {
   "display_name": "Python 3",
   "language": "python",
   "name": "python3"
  },
  "language_info": {
   "codemirror_mode": {
    "name": "ipython",
    "version": 3
   },
   "file_extension": ".py",
   "mimetype": "text/x-python",
   "name": "python",
   "nbconvert_exporter": "python",
   "pygments_lexer": "ipython3",
   "version": "3.8.5"
  }
 },
 "nbformat": 4,
 "nbformat_minor": 4
}
