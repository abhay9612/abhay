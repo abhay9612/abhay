{
 "cells": [
  {
   "cell_type": "raw",
   "id": "817f9c6d",
   "metadata": {},
   "source": [
    "1. What is Python?"
   ]
  },
  {
   "cell_type": "markdown",
   "id": "cb76d70d",
   "metadata": {},
   "source": [
    "Python is a high-level, interpreted, general-purpose programming language. Being a general-purpose language, it can be used to build almost any type of application with the right tools/libraries. Additionally, python supports objects, modules, threads, exception-handling, and automatic memory management which help in modeling real-world problems and building applications to solve these problems.\n",
    "\n"
   ]
  },
  {
   "cell_type": "raw",
   "id": "9f2b805b",
   "metadata": {},
   "source": [
    "2. What are the benefits of using Python?"
   ]
  },
  {
   "cell_type": "raw",
   "id": "417fb74f",
   "metadata": {},
   "source": [
    "Python is a general-purpose programming language that has a simple, easy-to-learn syntax that emphasizes readability and therefore reduces the cost of program maintenance. Moreover, the language is capable of scripting, is completely open-source, and supports third-party packages encouraging modularity and code reuse.\n",
    "Its high-level data structures, combined with dynamic typing and dynamic binding, attract a huge community of developers for Rapid Application Development and deployment.\n"
   ]
  },
  {
   "cell_type": "raw",
   "id": "6aea49eb",
   "metadata": {},
   "source": [
    "3. What is a dynamically typed language?"
   ]
  },
  {
   "cell_type": "raw",
   "id": "6150e153",
   "metadata": {},
   "source": [
    "Before we understand a dynamically typed language, we should learn about what typing is. Typing refers to type-checking in programming languages. In a strongly-typed language, such as Python, \"1\" + 2 will result in a type error since these languages don't allow for \"type-coercion\" (implicit conversion of data types). On the other hand, a weakly-typed language, such as Javascript, will simply output \"12\" as result.\n",
    "\n",
    "Type-checking can be done at two stages -\n",
    "\n",
    "Static - Data Types are checked before execution.\n",
    "Dynamic - Data Types are checked during execution.\n",
    "Python is an interpreted language, executes each statement line by line and thus type-checking is done on the fly, during execution. Hence, Python is a Dynamically Typed Language."
   ]
  },
  {
   "cell_type": "raw",
   "id": "d2c603e0",
   "metadata": {},
   "source": [
    "4. What are the common built-in data types in Python?\n"
   ]
  },
  {
   "cell_type": "raw",
   "id": "7bf2852e",
   "metadata": {},
   "source": [
    "There are several built-in data types in Python. Although, Python doesn't require data types to be defined explicitly during variable declarations type errors are likely to occur if the knowledge of data types and their compatibility with each other are neglected. Python provides type() and isinstance() functions to check the type of these variables. These data types can be grouped into the following categories-\n",
    "\n",
    "None Type:\n",
    "None keyword represents the null values in Python. Boolean equality operation can be performed using these NoneType objects.\n",
    "Class Name\tDescription\n",
    "NoneType\tRepresents the NULL values in Python.\n",
    "Numeric Types:\n",
    "There are three distinct numeric types - integers, floating-point numbers, and complex numbers. Additionally, booleans are a sub-type of integers.\n",
    "Class Name\tDescription\n",
    "int\tStores integer literals including hex, octal and binary numbers as integers\n",
    "float\tStores literals containing decimal values and/or exponent signs as floating-point numbers\n",
    "complex\tStores complex numbers in the form (A + Bj) and has attributes: real and imag\n",
    "bool\tStores boolean value (True or False).\n",
    "Note: The standard library also includes fractions to store rational numbers and decimal to store floating-point numbers with user-defined precision.\n",
    "\n",
    "Sequence Types:\n",
    "According to Python Docs, there are three basic Sequence Types - lists, tuples, and range objects. Sequence types have the in and not in operators defined for their traversing their elements. These operators share the same priority as the comparison operations.\n",
    "Class Name\tDescription\n",
    "list\tMutable sequence used to store collection of items.\n",
    "tuple\tImmutable sequence used to store collection of items.\n",
    "range\tRepresents an immutable sequence of numbers generated during execution.\n",
    "str\tImmutable sequence of Unicode code points to store textual data.\n",
    "Note: The standard library also includes additional types for processing:\n",
    "1. Binary data such as bytearray bytes memoryview , and\n",
    "2. Text strings such as str.\n",
    "\n",
    "Mapping Types:\n",
    "A mapping object can map hashable values to random objects in Python. Mappings objects are mutable and there is currently only one standard mapping type, the dictionary.\n",
    "\n",
    "Class Name \tDescription\n",
    "dict\tStores comma-separated list of key: value pairs\n",
    "Set Types:\n",
    "Currently, Python has two built-in set types - set and frozenset. set type is mutable and supports methods like add() and remove(). frozenset type is immutable and can't be modified after creation.\n",
    "Class Name\tDescription\n",
    "set\tMutable unordered collection of distinct hashable objects.\n",
    "frozenset\tImmutable collection of distinct hashable objects.\n",
    "Note: set is mutable and thus cannot be used as key for a dictionary. On the other hand, frozenset is immutable and thus, hashable, and can be used as a dictionary key or as an element of another set.\n",
    "\n",
    "Modules:\n",
    "Module is an additional built-in type supported by the Python Interpreter. It supports one special operation, i.e., attribute access: mymod.myobj, where mymod is a module and myobj references a name defined in m's symbol table. The module's symbol table resides in a very special attribute of the module __dict__, but direct assignment to this module is neither possible nor recommended.\n",
    "Callable Types:\n",
    "Callable types are the types to which function call can be applied. They can be user-defined functions, instance methods, generator functions, and some other built-in functions, methods and classes.\n",
    "Refer to the documentation at docs.python.org for a detailed view of the callable types"
   ]
  },
  {
   "cell_type": "raw",
   "id": "d24bd594",
   "metadata": {},
   "source": [
    "5. What is pass in Python?\n",
    "   The pass keyword represents a null operation in Python. It is generally used for the purpose of filling up empty blocks of      code which may execute during runtime but has yet to be written. Without the pass statement in the following code, we may run    into some errors during code execution."
   ]
  },
  {
   "cell_type": "raw",
   "id": "91fac4b1",
   "metadata": {},
   "source": [
    "6.What is break, continue and pass in Python?\n",
    "  Break\tThe break statement terminates the loop immediately and the control flows to the statement after the body of the loop.\n",
    "  Continue\tThe continue statement terminates the current iteration of the statement, skips the rest of the code in the current   iteration and the control flows to the next iteration of the loop.\n",
    "  Pass\tAs explained above, the pass keyword in Python is generally used to fill up empty blocks and is similar to an empty       statement represented by a semi-colon in languages such as Java, C++, Javascript, etc."
   ]
  },
  {
   "cell_type": "raw",
   "id": "f2b62d72",
   "metadata": {},
   "source": [
    "7.What is the difference between Python Arrays and lists?\n",
    "  Arrays in python can only contain elements of same data types i.e., data type of array should be homogeneous. It is a thin       wrapper around C language arrays and consumes far less memory than lists.\n",
    "  Lists in python can contain elements of different data types i.e., data type of lists can be heterogeneous. It has the           disadvantage of consuming large memory."
   ]
  },
  {
   "cell_type": "raw",
   "id": "e9a02ec3",
   "metadata": {},
   "source": [
    "8.What are Dict and List comprehensions?\n",
    "  Python comprehensions, like decorators, are syntactic sugar constructs that help build altered and filtered lists,            \n",
    "  dictionaries, or sets from a given list, dictionary, or set. Using comprehensions saves a lot of time and code that might be     considerably more verbose (containing more lines of code). Let's check out some examples, where comprehensions can be truly   \n",
    "  beneficial"
   ]
  },
  {
   "cell_type": "raw",
   "id": "9f3e543f",
   "metadata": {},
   "source": [
    "9.What does [::-1] do?\n",
    "[::-1] ,this is an example of slice notation and helps to reverse the sequence with the help of indexing.\n",
    "\n",
    "[Start,stop,step count]"
   ]
  },
  {
   "cell_type": "raw",
   "id": "685324c3",
   "metadata": {},
   "source": [
    "10.What are Dict and List comprehensions?\n",
    "Python comprehensions are like decorators, that help to build altered and filtered lists, dictionaries or sets from a given list, dictionary or set. Comprehension saves a lot of time and code that might be considerably more complex and time consuming.\n",
    "\n",
    "Comprehensions are beneficial in following scenarios:\n",
    "\n",
    "Performing mathematical operations on the entire list\n",
    "Performing conditional filtering operations on the entire list\n",
    "Combining multiple lists into one\n",
    "Flattening a multi-dimensional list"
   ]
  },
  {
   "cell_type": "raw",
   "id": "cff3c36f",
   "metadata": {},
   "source": [
    "11.What is the difference between Python Arrays and lists?\n",
    "Ans: Arrays and lists, in Python, have the same way of storing data. But, arrays can hold only a single data type elements whereas lists can hold any data type elements."
   ]
  },
  {
   "cell_type": "raw",
   "id": "217326a1",
   "metadata": {},
   "source": [
    "12.How do you write comments in python?\n",
    "Ans: Comments in Python start with a # character. However, alternatively at times, commenting is done using docstrings(strings enclosed within triple quotes)."
   ]
  },
  {
   "cell_type": "raw",
   "id": "e0af1392",
   "metadata": {},
   "source": [
    "13.What are the supported data types in Python?\n",
    "Python has five standard data types −\n",
    "Numbers (Integer and Float)\n",
    "String\n",
    "List\n",
    "Tuple\n",
    "Dictionary"
   ]
  },
  {
   "cell_type": "raw",
   "id": "f542e978",
   "metadata": {},
   "source": [
    "14.What are indexes?\n",
    "To access an element from ordered sequences, we simply use the index of the element, which is the position number of that particular element. The index usually starts from 0, i.e., the first element has index 0, the second has 1, and so on."
   ]
  },
  {
   "cell_type": "raw",
   "id": "4660e51e",
   "metadata": {},
   "source": [
    "15.What are negative indexes and why are they used?\n",
    "When we use the index to access elements from the end of a list, it’s called reverse indexing. In reverse indexing, the indexing of elements starts from the last element with the index number −1. The second last element has index ‘−2’, and so on. These indexes used in reverse indexing are called negative indexes.15."
   ]
  },
  {
   "cell_type": "raw",
   "id": "74326be9",
   "metadata": {},
   "source": [
    "16.What is a dictionary in Python?\n",
    "Python dictionary is one of the supported data types in Python. It is an unordered collection of elements. The elements in dictionaries are stored as key-value pairs. Dictionaries are indexed by keys. The data type is presented by{} .16."
   ]
  },
  {
   "cell_type": "raw",
   "id": "1b6d9344",
   "metadata": {},
   "source": [
    "17.How to access values in a dictionary?\n",
    "You could access the values in a dictionary by indexing using the key. Indexing is presented by [] ."
   ]
  },
  {
   "cell_type": "raw",
   "id": "a705ae0e",
   "metadata": {},
   "source": [
    "18.How do you get a list of all the keys in a dictionary?\n",
    "In Dictionary, there is a keys() attribute we could use."
   ]
  },
  {
   "cell_type": "raw",
   "id": "0785b9fc",
   "metadata": {},
   "source": [
    "19.What is the difference between list and tuple?\n",
    "The difference between list and tuple is that list is mutable while tuple is not. Tuple can be hashed for e.g as a key for dictionaries. The list is defined using [] and tuple defined using () ."
   ]
  },
  {
   "cell_type": "raw",
   "id": "c67cf7b3",
   "metadata": {},
   "source": [
    "20.What is the purpose pass statement in python?\n",
    "The pass statement in Python is used when a statement is required syntactically but you do not want any command or code to execute"
   ]
  }
 ],
 "metadata": {
  "kernelspec": {
   "display_name": "Python 3 (ipykernel)",
   "language": "python",
   "name": "python3"
  },
  "language_info": {
   "codemirror_mode": {
    "name": "ipython",
    "version": 3
   },
   "file_extension": ".py",
   "mimetype": "text/x-python",
   "name": "python",
   "nbconvert_exporter": "python",
   "pygments_lexer": "ipython3",
   "version": "3.10.0"
  }
 },
 "nbformat": 4,
 "nbformat_minor": 5
}
